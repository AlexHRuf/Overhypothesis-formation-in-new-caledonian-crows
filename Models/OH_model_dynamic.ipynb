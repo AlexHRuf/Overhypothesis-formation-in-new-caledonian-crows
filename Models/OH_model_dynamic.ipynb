{
 "cells": [
  {
   "cell_type": "code",
   "execution_count": 2,
   "id": "50074746-799d-4ecd-9d1d-c18c83c87c24",
   "metadata": {},
   "outputs": [
    {
     "data": {
      "text/plain": [
       "TaskLocalRNG()"
      ]
     },
     "execution_count": 2,
     "metadata": {},
     "output_type": "execute_result"
    }
   ],
   "source": [
    "using Turing, Distributions, Random, MCMCChains, Plots, StatsPlots, Measures, BSON\n",
    "#Load utility functions\n",
    "include(\"utility_functions.jl\")\n",
    "# Random seed for reproducibility\n",
    "Random.seed!(1234)"
   ]
  },
  {
   "cell_type": "code",
   "execution_count": 3,
   "id": "1c888957-b217-4503-a6e1-5d9e840f2638",
   "metadata": {},
   "outputs": [
    {
     "data": {
      "text/plain": [
       "dirichlet_multinomial_model (generic function with 2 methods)"
      ]
     },
     "execution_count": 3,
     "metadata": {},
     "output_type": "execute_result"
    }
   ],
   "source": [
    "# Define the Overhypothesis model using Turing\n",
    "@model function dirichlet_multinomial_model(K, I, n, y)\n",
    "    # Priors\n",
    "    alpha ~ truncated(Exponential(0.5), 0.1, Inf)  # Keep alpha strictly positive\n",
    "    beta ~ Dirichlet([0.5, 0.5])  # Prior for the base distribution\n",
    "\n",
    "    # Small positive constant to ensure all values are positive\n",
    "    epsilon = 1e-6\n",
    "\n",
    "    # Container-specific color distributions\n",
    "    theta = Vector{Vector{Real}}(undef, I)\n",
    "    for i in 1:I\n",
    "        concentration_param = alpha * beta .+ epsilon\n",
    "        \n",
    "        # Safeguard: check if concentration_param contains Inf or NaN values\n",
    "        if any(isinf.(concentration_param)) || any(isnan.(concentration_param)) || any(concentration_param .<= 0)\n",
    "            error(\"Invalid concentration parameters detected: \", concentration_param)\n",
    "        end\n",
    "\n",
    "        theta[i] ~ Dirichlet(concentration_param)\n",
    "\n",
    "        # Ensure theta[i] values are above a minimum threshold\n",
    "        min_threshold = 1e-6\n",
    "        theta[i] = [max(val, min_threshold) for val in theta[i]]\n",
    "\n",
    "        # Normalize theta[i] to make sure it sums to 1\n",
    "        theta_sum = sum(theta[i])\n",
    "        theta[i] = theta[i] / theta_sum\n",
    "\n",
    "        # Ensure that theta[i] is a valid probability vector\n",
    "        if any(isnan.(theta[i])) || any(theta[i] .< 0) || abs(sum(theta[i]) - 1.0) > epsilon\n",
    "            error(\"Invalid probability vector detected: \", theta[i])\n",
    "        end\n",
    "\n",
    "        y[i, :] ~ Multinomial(n[i], theta[i])\n",
    "    end\n",
    "end\n"
   ]
  },
  {
   "cell_type": "code",
   "execution_count": 6,
   "id": "4ff0c8ea-bfd2-47d4-904c-98e5329c1d7e",
   "metadata": {},
   "outputs": [
    {
     "data": {
      "text/plain": [
       "11-element Vector{Vector{Int64}}:\n",
       " [0, 1, 1, 1, 1, 1, 1, 1, 1, 1, 1]\n",
       " [0, 2, 2, 2, 2, 2, 2, 2, 2, 2, 2]\n",
       " [0, 1, 1, 1, 1, 1, 1, 1, 1, 1, 1]\n",
       " [0, 1, 1, 1, 1, 1, 1, 1, 1, 1, 1]\n",
       " [0, 2, 2, 2, 2, 2, 2, 2, 2, 2, 2]\n",
       " [0, 1, 1, 1, 1, 1, 1, 1, 1, 1, 1]\n",
       " [0, 2, 2, 2, 2, 2, 2, 2, 2, 2, 2]\n",
       " [0, 1, 1, 1, 1, 1, 1, 1, 1, 1, 1]\n",
       " [0, 2, 2, 2, 2, 2, 2, 2, 2, 2, 2]\n",
       " [0, 2, 2, 2, 2, 2, 2, 2, 2, 2, 2]\n",
       " [0, 1, 1, 1, 1, 1, 1, 1, 1, 1  …  1, 1, 1, 1, 1, 1, 1, 1, 1, 1]"
      ]
     },
     "execution_count": 6,
     "metadata": {},
     "output_type": "execute_result"
    }
   ],
   "source": [
    "#Mixed group data\n",
    "sample_vectors_mixed = [\n",
    "    [0, 1, 2, 1, 2, 1, 2, 1, 2, 1, 2],  \n",
    "    [0, 2, 1, 1, 2, 2, 1, 1, 2, 2, 1],  \n",
    "    [0, 1, 1, 2, 2, 1, 1, 2, 2, 1, 2], \n",
    "    [0, 2, 1, 2, 1, 2, 1, 2, 1, 1, 2],  \n",
    "    [0, 1, 2, 2, 1, 1, 2, 1, 2, 1, 2], \n",
    "    [0, 2, 2, 1, 1, 2, 2, 1, 1, 1, 2], \n",
    "    [0, 1, 1, 1, 2, 2, 2, 1, 2, 1, 2],  \n",
    "    [0, 2, 2, 1, 2, 2, 1, 2, 1, 1, 2],  \n",
    "    [0, 1, 2, 1, 2, 2, 1, 2, 1, 1, 1], \n",
    "    [0, 2, 1, 1, 2, 1, 2, 1, 1, 2, 2],  \n",
    "    [0,1,1,1,1,1,1,1,1,1,1,1,1,1,1,1,1,1,1,1,1,1,1,1,1,1,1,1,1,1,1]\n",
    "]\n",
    "#Uniform group data\n",
    "sample_vectors_uniform = [\n",
    "    [0, 1, 1, 1, 1, 1, 1, 1, 1, 1, 1],\n",
    "    [0, 2, 2, 2, 2, 2, 2, 2, 2, 2, 2],  \n",
    "    [0, 1, 1, 1, 1, 1, 1, 1, 1, 1, 1],  \n",
    "    [0, 1, 1, 1, 1, 1, 1, 1, 1, 1, 1],  \n",
    "    [0, 2, 2, 2, 2, 2, 2, 2, 2, 2, 2], \n",
    "    [0, 1, 1, 1, 1, 1, 1, 1, 1, 1, 1],  \n",
    "    [0, 2, 2, 2, 2, 2, 2, 2, 2, 2, 2],  \n",
    "    [0, 1, 1, 1, 1, 1, 1, 1, 1, 1, 1],  \n",
    "    [0, 2, 2, 2, 2, 2, 2, 2, 2, 2, 2],  \n",
    "    [0, 2, 2, 2, 2, 2, 2, 2, 2, 2, 2], \n",
    "    [0,1,1,1,1,1,1,1,1,1,1,1,1,1,1,1,1,1,1,1,1,1,1,1,1,1,1,1,1,1,1]  #Test\n",
    "]\n"
   ]
  },
  {
   "cell_type": "code",
   "execution_count": 11,
   "id": "f64365ff-4454-4eb9-92f1-0005fd12a3e5",
   "metadata": {},
   "outputs": [
    {
     "data": {
      "text/plain": [
       "fit_dynamic_model_test (generic function with 1 method)"
      ]
     },
     "execution_count": 11,
     "metadata": {},
     "output_type": "execute_result"
    }
   ],
   "source": [
    "# Function to fit the model incrementally using the subsets, plus an additional test2 container\n",
    "function fit_dynamic_model_test(sample_vectors)\n",
    "    subset_index = 1\n",
    "    n_containers = length(sample_vectors)\n",
    "    all_posteriors = []\n",
    "\n",
    "    # Iterate through each container and build up the subsets\n",
    "    for container_index in 1:length(sample_vectors) #For each container\n",
    "        for sample_index in 1:length(sample_vectors[container_index]) #For each sample \n",
    "            # Build the current subset\n",
    "            subset = [i < container_index ? sample_vectors[i] : sample_vectors[i][1:sample_index] for i in 1:container_index]\n",
    "\n",
    "            # Prepare the counts (y) for the model\n",
    "            I = length(subset)  # Number of containers in the subset\n",
    "            K = 2  # Number of item types (2; Low and High value in this case)\n",
    "            y = [zeros(Int, K) for _ in 1:I]  # Initialize y based on K\n",
    "\n",
    "            # Populate y based on the current subset\n",
    "            for i in 1:I\n",
    "                for val in subset[i]\n",
    "                    if val == 1\n",
    "                        y[i][1] += 1  # First category (e.g., Low-value)\n",
    "                    elseif val == 2\n",
    "                        y[i][2] += 1  # Second category (e.g., High-value)\n",
    "                    elseif val == 0\n",
    "                        y = y #A zero indicates an empty draw\n",
    "                    else\n",
    "                        error(\"Invalid sample value: $val. Must be 0, 1 or 2.\")\n",
    "                    end\n",
    "                end\n",
    "            end\n",
    "\n",
    "            # Prepare n based on the current subset\n",
    "            n = [length(s)-1 for s in subset]  # Total counts for each container in the subset\n",
    "            \n",
    "            #If the current container is the test1 container (i.e. last container)\n",
    "            if I == length(sample_vectors)\n",
    "                push!(y, [0,0]) #Append a new container (test2), with no observation\n",
    "                push!(n, 0) #Count items in new container (always 0)\n",
    "                I = I+1 #Lengthen I by the additional container\n",
    "            end\n",
    "            \n",
    "            # Print the current subset and the corresponding y element\n",
    "            println(\"Subset $subset_index: $subset\")\n",
    "            println(\"y element for model: $y\")\n",
    "            println(\"I: $I\")\n",
    "            println(\"n: $n\\n\")\n",
    "\n",
    "            # Fit the model with the current subset\n",
    "            model = dirichlet_multinomial_model(K, I, n, y)\n",
    "            chain = sample(model, NUTS(), 1000, progress = false)\n",
    "\n",
    "            # Store the posterior samples in a dictionary\n",
    "            posterior_samples = Dict()\n",
    "            for param in names(chain)\n",
    "                posterior_samples[string(param)] = chain[param]\n",
    "            end\n",
    "            push!(all_posteriors, posterior_samples)\n",
    "\n",
    "            subset_index += 1\n",
    "        end\n",
    "    end\n",
    "    \n",
    "    return all_posteriors\n",
    "end"
   ]
  },
  {
   "cell_type": "code",
   "execution_count": 13,
   "id": "04874109-1310-4170-a46b-32f8afd76184",
   "metadata": {},
   "outputs": [],
   "source": [
    "# Fit the model with the sample_vectors\n",
    "#all_posteriors_uniform = fit_dynamic_model_test(sample_vectors_uniform)\n",
    "#all_posteriors_mixed = fit_dynamic_model_test(sample_vectors_mixed)\n",
    "# Save the posteriors\n",
    "#BSON.@save \"Posterior_Samples/level2_mixed.bson\" all_posteriors_mixed\n",
    "#BSON.@save \"Posterior_Samples/level2_uniform.bson\" all_posteriors_uniform\n",
    "\n",
    "# Load posteriror samples\n",
    "BSON.@load \"Posterior_Samples/level2_mixed.bson\" all_posteriors_mixed\n",
    "BSON.@load \"Posterior_Samples/level2_uniform.bson\" all_posteriors_uniform"
   ]
  },
  {
   "cell_type": "code",
   "execution_count": 17,
   "id": "2faff1c8-fce6-4d1e-862b-70ea4e09d98c",
   "metadata": {},
   "outputs": [],
   "source": [
    "posterior_samples_test1_mixed = extract_posterior_samples(all_posteriors_mixed, sample_vectors_mixed, \"test1\", 1, 2)\n",
    "posterior_samples_test2_mixed = extract_posterior_samples(all_posteriors_mixed, sample_vectors_mixed, \"test2\", 1, 2)\n",
    "posterior_samples_test1_uniform = extract_posterior_samples(all_posteriors_uniform, sample_vectors_uniform, \"test1\", 1, 2)\n",
    "posterior_samples_test2_uniform = extract_posterior_samples(all_posteriors_uniform, sample_vectors_uniform, \"test2\", 1, 2)\n",
    "\n",
    "#Save extracted samples\n",
    "#BSON.@save \"Posterior_Samples/level2_posterior_samples_test1_mixed.bson\" posterior_samples_test1_mixed\n",
    "#BSON.@save \"Posterior_Samples/level2_posterior_samples_test2_mixed.bson\" posterior_samples_test2_mixed\n",
    "#BSON.@save \"Posterior_Samples/level2_posterior_samples_test1_uniform.bson\" posterior_samples_test1_uniform\n",
    "#BSON.@save \"Posterior_Samples/level2_posterior_samples_test2_uniform.bson\" posterior_samples_test2_uniform"
   ]
  }
 ],
 "metadata": {
  "kernelspec": {
   "display_name": "Julia 1.11.0",
   "language": "julia",
   "name": "julia-1.11"
  },
  "language_info": {
   "file_extension": ".jl",
   "mimetype": "application/julia",
   "name": "julia",
   "version": "1.11.0"
  }
 },
 "nbformat": 4,
 "nbformat_minor": 5
}
