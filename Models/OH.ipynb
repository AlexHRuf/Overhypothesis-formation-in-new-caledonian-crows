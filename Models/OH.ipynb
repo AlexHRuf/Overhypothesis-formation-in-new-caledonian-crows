{
 "cells": [
  {
   "cell_type": "code",
   "execution_count": 3,
   "id": "0d414e00-915e-4f03-b007-934803f322ce",
   "metadata": {},
   "outputs": [
    {
     "data": {
      "text/plain": [
       "TaskLocalRNG()"
      ]
     },
     "execution_count": 3,
     "metadata": {},
     "output_type": "execute_result"
    }
   ],
   "source": [
    "using Turing, Distributions, Random, MCMCChains, Plots, StatsPlots, Measures\n",
    "# Set a random seed for reproducibility\n",
    "Random.seed!(1234)"
   ]
  },
  {
   "cell_type": "code",
   "execution_count": 51,
   "id": "610a0042-f307-432a-8c11-b0e511e77a37",
   "metadata": {},
   "outputs": [
    {
     "data": {
      "text/plain": [
       "dirichlet_multinomial_model (generic function with 2 methods)"
      ]
     },
     "execution_count": 51,
     "metadata": {},
     "output_type": "execute_result"
    }
   ],
   "source": [
    "# Define the Turing model\n",
    "@model function dirichlet_multinomial_model(K, I, n, y)\n",
    "    # Priors\n",
    "    beta ~ Dirichlet([0.5,0.5])  # Prior for the base distribution (50% black, 50% white)\n",
    "    alpha ~ Exponential(0.5)     # Global concentration parameter\n",
    "\n",
    "    # Container-specific color distributions\n",
    "    theta = Vector{Real}(undef, I)\n",
    "    for i in 1:I\n",
    "        concentration_param = alpha * beta .+ 1e-6\n",
    "        theta[i] ~ Dirichlet(concentration_param)      # Sample θ_i ∼ Dirichlet(α * β)\n",
    "        y[i, :] ~ Multinomial(n[i], theta[i])          # Observed counts follow a multinomial distribution\n",
    "    end\n",
    "end"
   ]
  },
  {
   "cell_type": "code",
   "execution_count": 29,
   "id": "9290bd24-4880-4789-a582-0dba3f100096",
   "metadata": {},
   "outputs": [
    {
     "data": {
      "text/plain": [
       "12-element Vector{Vector{Int64}}:\n",
       " [10, 0]\n",
       " [0, 10]\n",
       " [10, 0]\n",
       " [0, 10]\n",
       " [10, 0]\n",
       " [0, 10]\n",
       " [10, 0]\n",
       " [0, 10]\n",
       " [10, 0]\n",
       " [0, 10]\n",
       " [20, 0]\n",
       " [0, 0]"
      ]
     },
     "execution_count": 29,
     "metadata": {},
     "output_type": "execute_result"
    }
   ],
   "source": [
    "# Example data\n",
    "K = 2  # Number of colors (e.g., black and white)\n",
    "I = 12  # Number of containers (including Test1 as I-1 and Test2 as I)\n",
    "n = [10, 10, 10, 10, 10, 10, 10, 10, 10, 10, 20, 0]  # Initial counts for each container, with 0 for Test2\n",
    "y_mixed = [\n",
    "    [5, 5],   # Observed counts for container 1\n",
    "    [5, 5], \n",
    "    [5, 5],\n",
    "    [5, 5],   \n",
    "    [5, 5],\n",
    "    [5, 5],\n",
    "    [5, 5], \n",
    "    [5, 5],\n",
    "    [5, 5],   \n",
    "    [5, 5],\n",
    "    [20, 0],    # Test1: the container we incrementally add black marbles to\n",
    "    [0, 0]     # Test2: the final container with no observations\n",
    "]\n",
    "y_uniform = [\n",
    "    [10, 0],   # Observed counts for container 1\n",
    "    [0, 10], \n",
    "    [10, 0],\n",
    "    [0, 10],   \n",
    "    [10, 0], \n",
    "    [0, 10], \n",
    "    [10, 0],\n",
    "    [0, 10],   \n",
    "    [10, 0], \n",
    "    [0, 10],\n",
    "    [20, 0],    # Test1: the container we incrementally add black marbles to\n",
    "    [0, 0]     # Test2: the final container with no observations\n",
    "]"
   ]
  },
  {
   "cell_type": "code",
   "execution_count": 49,
   "id": "b314b4bc-20df-470f-9d19-c32349eaca78",
   "metadata": {},
   "outputs": [
    {
     "name": "stderr",
     "output_type": "stream",
     "text": [
      "\u001b[36m\u001b[1m┌ \u001b[22m\u001b[39m\u001b[36m\u001b[1mInfo: \u001b[22m\u001b[39mFound initial step size\n",
      "\u001b[36m\u001b[1m└ \u001b[22m\u001b[39m  ϵ = 0.8\n"
     ]
    },
    {
     "data": {
      "text/plain": [
       "Chains MCMC chain (1000×39×1 Array{Float64, 3}):\n",
       "\n",
       "Iterations        = 501:1:1500\n",
       "Number of chains  = 1\n",
       "Samples per chain = 1000\n",
       "Wall duration     = 0.4 seconds\n",
       "Compute duration  = 0.4 seconds\n",
       "parameters        = beta[1], beta[2], alpha, theta[1][1], theta[1][2], theta[2][1], theta[2][2], theta[3][1], theta[3][2], theta[4][1], theta[4][2], theta[5][1], theta[5][2], theta[6][1], theta[6][2], theta[7][1], theta[7][2], theta[8][1], theta[8][2], theta[9][1], theta[9][2], theta[10][1], theta[10][2], theta[11][1], theta[11][2], theta[12][1], theta[12][2]\n",
       "internals         = lp, n_steps, is_accept, acceptance_rate, log_density, hamiltonian_energy, hamiltonian_energy_error, max_hamiltonian_energy_error, tree_depth, numerical_error, step_size, nom_step_size\n",
       "\n",
       "Summary Statistics\n",
       " \u001b[1m   parameters \u001b[0m \u001b[1m    mean \u001b[0m \u001b[1m     std \u001b[0m \u001b[1m    mcse \u001b[0m \u001b[1m  ess_bulk \u001b[0m \u001b[1m ess_tail \u001b[0m \u001b[1m    rhat \u001b[0m ⋯\n",
       " \u001b[90m       Symbol \u001b[0m \u001b[90m Float64 \u001b[0m \u001b[90m Float64 \u001b[0m \u001b[90m Float64 \u001b[0m \u001b[90m   Float64 \u001b[0m \u001b[90m  Float64 \u001b[0m \u001b[90m Float64 \u001b[0m ⋯\n",
       "\n",
       "       beta[1]    0.5562    0.0814    0.0023   1237.5213   859.4724    0.9992  ⋯\n",
       "       beta[2]    0.4438    0.0814    0.0023   1237.5213   859.4724    0.9992  ⋯\n",
       "         alpha    2.2238    0.8026    0.0236   1073.1043   662.1290    0.9990  ⋯\n",
       "   theta[1][1]    0.5169    0.1377    0.0035   1529.0202   641.8933    0.9993  ⋯\n",
       "   theta[1][2]    0.4831    0.1377    0.0035   1529.0202   641.8933    0.9993  ⋯\n",
       "   theta[2][1]    0.4996    0.1440    0.0032   2047.0695   612.0151    1.0009  ⋯\n",
       "   theta[2][2]    0.5004    0.1440    0.0032   2047.0695   612.0151    1.0009  ⋯\n",
       "   theta[3][1]    0.5089    0.1444    0.0032   2084.3744   620.6183    0.9993  ⋯\n",
       "   theta[3][2]    0.4911    0.1444    0.0032   2084.3744   620.6183    0.9993  ⋯\n",
       "   theta[4][1]    0.5122    0.1411    0.0031   2064.4676   656.6133    0.9996  ⋯\n",
       "   theta[4][2]    0.4878    0.1411    0.0031   2064.4676   656.6133    0.9996  ⋯\n",
       "   theta[5][1]    0.5058    0.1398    0.0026   3000.0000   756.3657    0.9990  ⋯\n",
       "   theta[5][2]    0.4942    0.1398    0.0026   3000.0000   756.3657    0.9990  ⋯\n",
       "   theta[6][1]    0.5143    0.1315    0.0031   1758.7225   774.9617    1.0029  ⋯\n",
       "   theta[6][2]    0.4857    0.1315    0.0031   1758.7225   774.9617    1.0029  ⋯\n",
       "   theta[7][1]    0.5160    0.1349    0.0036   1395.7317   674.9184    0.9997  ⋯\n",
       "   theta[7][2]    0.4840    0.1349    0.0036   1395.7317   674.9184    0.9997  ⋯\n",
       "   theta[8][1]    0.5164    0.1427    0.0031   2087.1943   621.2956    1.0078  ⋯\n",
       "   theta[8][2]    0.4836    0.1427    0.0031   2087.1943   621.2956    1.0078  ⋯\n",
       "   theta[9][1]    0.5113    0.1399    0.0036   1489.3682   699.8792    0.9995  ⋯\n",
       "   theta[9][2]    0.4887    0.1399    0.0036   1489.3682   699.8792    0.9995  ⋯\n",
       "  theta[10][1]    0.5088    0.1367    0.0027   2635.5043   603.2693    1.0002  ⋯\n",
       "  theta[10][2]    0.4912    0.1367    0.0027   2635.5043   603.2693    1.0002  ⋯\n",
       "       ⋮            ⋮         ⋮         ⋮          ⋮          ⋮          ⋮     ⋱\n",
       "\u001b[36m                                                     1 column and 4 rows omitted\u001b[0m\n",
       "\n",
       "Quantiles\n",
       " \u001b[1m   parameters \u001b[0m \u001b[1m    2.5% \u001b[0m \u001b[1m   25.0% \u001b[0m \u001b[1m   50.0% \u001b[0m \u001b[1m   75.0% \u001b[0m \u001b[1m   97.5% \u001b[0m\n",
       " \u001b[90m       Symbol \u001b[0m \u001b[90m Float64 \u001b[0m \u001b[90m Float64 \u001b[0m \u001b[90m Float64 \u001b[0m \u001b[90m Float64 \u001b[0m \u001b[90m Float64 \u001b[0m\n",
       "\n",
       "       beta[1]    0.3874    0.5016    0.5566    0.6148    0.7066\n",
       "       beta[2]    0.2934    0.3852    0.4434    0.4984    0.6126\n",
       "         alpha    0.9430    1.6404    2.1346    2.6887    4.0271\n",
       "   theta[1][1]    0.2506    0.4186    0.5145    0.6125    0.7754\n",
       "   theta[1][2]    0.2246    0.3875    0.4855    0.5814    0.7494\n",
       "   theta[2][1]    0.2213    0.3958    0.5026    0.5988    0.7830\n",
       "   theta[2][2]    0.2170    0.4012    0.4974    0.6042    0.7787\n",
       "   theta[3][1]    0.2432    0.4018    0.5072    0.6134    0.7959\n",
       "   theta[3][2]    0.2041    0.3866    0.4928    0.5982    0.7568\n",
       "   theta[4][1]    0.2492    0.4093    0.5068    0.6138    0.7672\n",
       "   theta[4][2]    0.2328    0.3862    0.4932    0.5907    0.7508\n",
       "   theta[5][1]    0.2456    0.4069    0.5060    0.6111    0.7549\n",
       "   theta[5][2]    0.2451    0.3889    0.4940    0.5931    0.7544\n",
       "   theta[6][1]    0.2683    0.4183    0.5117    0.6107    0.7591\n",
       "   theta[6][2]    0.2409    0.3893    0.4883    0.5817    0.7317\n",
       "   theta[7][1]    0.2455    0.4230    0.5212    0.6114    0.7726\n",
       "   theta[7][2]    0.2274    0.3886    0.4788    0.5770    0.7545\n",
       "   theta[8][1]    0.2450    0.4111    0.5139    0.6179    0.7877\n",
       "   theta[8][2]    0.2123    0.3821    0.4861    0.5889    0.7550\n",
       "   theta[9][1]    0.2409    0.4101    0.5116    0.6121    0.7846\n",
       "   theta[9][2]    0.2154    0.3879    0.4884    0.5899    0.7591\n",
       "  theta[10][1]    0.2280    0.4107    0.5100    0.6047    0.7791\n",
       "  theta[10][2]    0.2209    0.3953    0.4900    0.5893    0.7720\n",
       "       ⋮            ⋮         ⋮         ⋮         ⋮         ⋮\n",
       "\u001b[36m                                                    4 rows omitted\u001b[0m\n"
      ]
     },
     "execution_count": 49,
     "metadata": {},
     "output_type": "execute_result"
    }
   ],
   "source": [
    "#Fit model to mixed group observations\n",
    "model = dirichlet_multinomial_model(K, I, n, y_mixed)\n",
    "chain = sample(model, NUTS(), 1000, progress = false)"
   ]
  }
 ],
 "metadata": {
  "kernelspec": {
   "display_name": "Julia 1.11.0",
   "language": "julia",
   "name": "julia-1.11"
  },
  "language_info": {
   "file_extension": ".jl",
   "mimetype": "application/julia",
   "name": "julia",
   "version": "1.11.0"
  }
 },
 "nbformat": 4,
 "nbformat_minor": 5
}
